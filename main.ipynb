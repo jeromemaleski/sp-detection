{
 "cells": [
  {
   "cell_type": "markdown",
   "metadata": {},
   "source": [
    "# Detectron2 Mask-RCNN Deployment\n",
    "\n",
    "\n"
   ]
  },
  {
   "cell_type": "code",
   "execution_count": 1,
   "metadata": {},
   "outputs": [],
   "source": [
    "import os\n",
    "import cv2\n",
    "from time import sleep\n",
    "from importlib import reload  \n",
    "\n",
    "from detectron2.config import get_cfg\n",
    "from detectron2.engine import DefaultPredictor\n",
    "from detectron2.utils.visualizer import Visualizer"
   ]
  },
  {
   "cell_type": "code",
   "execution_count": 2,
   "metadata": {},
   "outputs": [],
   "source": [
    "#set model configuration\n",
    "cfg = get_cfg()\n",
    "cfg.merge_from_file(\"/Users/jm/notebooks/sp-detection/mask_rcnn_R_50_FPN_3x.yaml\")\n",
    "cfg.DATALOADER.NUM_WORKERS = 2\n",
    "cfg.MODEL.DEVICE = \"cpu\" \n",
    "cfg.MODEL.ROI_HEADS.NUM_CLASSES = 1  \n",
    "cfg.MODEL.WEIGHTS = '/Users/jm/notebooks/sp-detection/model_final.pth' \n",
    "cfg.MODEL.ROI_HEADS.SCORE_THRESH_TEST = 0.5 # set the testing threshold for this model\n"
   ]
  },
  {
   "cell_type": "code",
   "execution_count": 6,
   "metadata": {},
   "outputs": [],
   "source": [
    "#create directories and paths\n",
    "img_names = set()\n",
    "prev_img_names = set()\n",
    "img_names_len = 0\n",
    "img_suffixes = ('png','jpg')\n",
    "#make output folders \n",
    "if not os.path.exists(\"output\"):\n",
    "    os.makedirs(\"output\")\n",
    "input_path = 'example_images'\n",
    "output_path = 'output'"
   ]
  },
  {
   "cell_type": "code",
   "execution_count": 7,
   "metadata": {},
   "outputs": [
    {
     "name": "stderr",
     "output_type": "stream",
     "text": [
      "/Users/jm/notebooks/sp-detection/.venv/lib/python3.12/site-packages/fvcore/common/checkpoint.py:252: FutureWarning: You are using `torch.load` with `weights_only=False` (the current default value), which uses the default pickle module implicitly. It is possible to construct malicious pickle data which will execute arbitrary code during unpickling (See https://github.com/pytorch/pytorch/blob/main/SECURITY.md#untrusted-models for more details). In a future release, the default value for `weights_only` will be flipped to `True`. This limits the functions that could be executed during unpickling. Arbitrary objects will no longer be allowed to be loaded via this mode unless they are explicitly allowlisted by the user via `torch.serialization.add_safe_globals`. We recommend you start setting `weights_only=True` for any use case where you don't have full control of the loaded file. Please open an issue on GitHub for any issues related to this experimental feature.\n",
      "  return torch.load(f, map_location=torch.device(\"cpu\"))\n",
      "The checkpoint state_dict contains keys that are not used by the model:\n",
      "  \u001b[35mpixel_mean\u001b[0m\n",
      "  \u001b[35mpixel_std\u001b[0m\n",
      "/Users/jm/notebooks/sp-detection/.venv/lib/python3.12/site-packages/torch/functional.py:534: UserWarning: torch.meshgrid: in an upcoming release, it will be required to pass the indexing argument. (Triggered internally at /Users/runner/work/pytorch/pytorch/pytorch/aten/src/ATen/native/TensorShape.cpp:3596.)\n",
      "  return _VF.meshgrid(tensors, **kwargs)  # type: ignore[attr-defined]\n"
     ]
    },
    {
     "name": "stdout",
     "output_type": "stream",
     "text": [
      "{'example_images/20FFYT0041CUNC03_11201_1_NC13-1027_M48_G2_RootPhoto1_2_2020-10-07-11-28-23.jpg', 'example_images/20M3RD0152CUNC03_12302_1_MC18-0145_RootPhoto1_2_2020-10-07-02-59-18.jpg', 'example_images/20FFMC0021CUNC03_09901.1_1_B94-14_G2_RootPhoto1_1_2020-10-07-08-45-46.jpg', 'example_images/20FFYT0026HCRN11_11001_1_Cov_G2(Ken)_RootPhoto1_2_2020-10-08-11-27-58.jpg', 'example_images/20M3RD0152CUNC03_12301_1_MC18-0162_RootPhoto1_2_2020-10-07-03-09-22.jpg', 'example_images/20FFMC0021CUNC03_09901.1_1_B94-14_G2_RootPhoto1_3_2020-10-07-08-46-57.jpg'}\n",
      "set()\n",
      "set()\n",
      "set()\n",
      "set()\n",
      "set()\n",
      "set()\n",
      "set()\n",
      "set()\n",
      "set()\n",
      "set()\n",
      "set()\n",
      "set()\n",
      "set()\n",
      "set()\n",
      "set()\n",
      "set()\n",
      "set()\n",
      "set()\n",
      "set()\n",
      "set()\n",
      "set()\n",
      "set()\n",
      "set()\n",
      "set()\n",
      "set()\n",
      "set()\n",
      "set()\n",
      "set()\n",
      "set()\n",
      "set()\n",
      "set()\n",
      "set()\n",
      "set()\n",
      "set()\n",
      "set()\n",
      "set()\n",
      "set()\n",
      "set()\n",
      "set()\n",
      "set()\n",
      "set()\n",
      "set()\n",
      "set()\n",
      "set()\n",
      "set()\n",
      "set()\n",
      "set()\n",
      "set()\n",
      "set()\n",
      "set()\n",
      "set()\n",
      "set()\n",
      "set()\n",
      "set()\n",
      "set()\n",
      "set()\n",
      "set()\n",
      "set()\n",
      "set()\n",
      "set()\n",
      "set()\n",
      "set()\n",
      "set()\n",
      "set()\n",
      "set()\n",
      "set()\n",
      "set()\n",
      "set()\n",
      "set()\n",
      "set()\n",
      "set()\n",
      "set()\n",
      "set()\n",
      "set()\n",
      "set()\n",
      "set()\n",
      "set()\n",
      "set()\n",
      "set()\n",
      "set()\n",
      "set()\n",
      "set()\n",
      "set()\n",
      "set()\n",
      "set()\n",
      "set()\n",
      "set()\n",
      "set()\n",
      "set()\n",
      "set()\n",
      "set()\n",
      "set()\n",
      "set()\n",
      "set()\n",
      "set()\n",
      "set()\n",
      "set()\n",
      "set()\n",
      "set()\n",
      "set()\n",
      "set()\n",
      "set()\n",
      "set()\n",
      "set()\n",
      "set()\n",
      "set()\n",
      "set()\n",
      "set()\n",
      "set()\n",
      "set()\n",
      "set()\n",
      "set()\n",
      "set()\n"
     ]
    },
    {
     "ename": "KeyboardInterrupt",
     "evalue": "",
     "output_type": "error",
     "traceback": [
      "\u001b[0;31m---------------------------------------------------------------------------\u001b[0m",
      "\u001b[0;31mKeyboardInterrupt\u001b[0m                         Traceback (most recent call last)",
      "Cell \u001b[0;32mIn[7], line 29\u001b[0m\n\u001b[1;32m     26\u001b[0m \u001b[38;5;28mprint\u001b[39m(new_imgs)\n\u001b[1;32m     27\u001b[0m prev_img_names\u001b[38;5;241m.\u001b[39mupdate(img_names)\n\u001b[0;32m---> 29\u001b[0m \u001b[43msleep\u001b[49m\u001b[43m(\u001b[49m\u001b[38;5;241;43m1\u001b[39;49m\u001b[43m)\u001b[49m\n",
      "\u001b[0;31mKeyboardInterrupt\u001b[0m: "
     ]
    }
   ],
   "source": [
    "#do inference on folder\n",
    "\n",
    "predictor = DefaultPredictor(cfg)\n",
    "\n",
    "\n",
    "while 1:\n",
    "    os.listdir(input_path)\n",
    "    for file in os.listdir(input_path):\n",
    "        fullpath=os.path.join(input_path, file)\n",
    "        if os.path.isfile(fullpath) and fullpath.endswith(img_suffixes):\n",
    "            img_names.add(fullpath)\n",
    "\n",
    "    new_imgs = img_names - prev_img_names\n",
    "    if(len(new_imgs) != 0):\n",
    "        for new_img in new_imgs:\n",
    "            orig_img = cv2.imread(new_img)\n",
    "            outputs = predictor(orig_img)\n",
    "            v = Visualizer(orig_img[:, :, ::-1], scale=0.1)\n",
    "            v = v.draw_instance_predictions(outputs[\"instances\"].to(\"cpu\"))\n",
    "            \n",
    "            output_img = v.get_image()[:, :, ::-1]\n",
    "            base_name = os.path.basename(new_img)\n",
    "            output_filename = os.path.join(output_path, os.path.splitext(base_name)[0]) + '_masked' + os.path.splitext(base_name)[1]\n",
    "            cv2.imwrite(output_filename,output_img)\n",
    "\n",
    "    print(new_imgs)\n",
    "    prev_img_names.update(img_names)\n",
    "\n",
    "    sleep(1)"
   ]
  },
  {
   "cell_type": "code",
   "execution_count": 2,
   "metadata": {},
   "outputs": [
    {
     "name": "stdout",
     "output_type": "stream",
     "text": [
      "5\n"
     ]
    }
   ],
   "source": [
    "print(5)"
   ]
  }
 ],
 "metadata": {
  "kernelspec": {
   "display_name": ".venv",
   "language": "python",
   "name": "python3"
  },
  "language_info": {
   "codemirror_mode": {
    "name": "ipython",
    "version": 3
   },
   "file_extension": ".py",
   "mimetype": "text/x-python",
   "name": "python",
   "nbconvert_exporter": "python",
   "pygments_lexer": "ipython3",
   "version": "3.12.8"
  },
  "orig_nbformat": 4
 },
 "nbformat": 4,
 "nbformat_minor": 2
}
